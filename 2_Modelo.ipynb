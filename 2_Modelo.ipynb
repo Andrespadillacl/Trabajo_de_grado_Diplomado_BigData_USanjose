{
 "cells": [
  {
   "cell_type": "code",
   "execution_count": null,
   "id": "7afd2bc4",
   "metadata": {},
   "outputs": [],
   "source": [
    "import pandas as pd\n",
    "import numpy as np\n",
    "import warnings\n",
    "warnings.filterwarnings('ignore')\n",
    "import seaborn as sns\n",
    "import matplotlib.pyplot as plt\n",
    "plt.style.use('fivethirtyeight')\n",
    "\n",
    "\n",
    "from catboost import CatBoostClassifier\n",
    "from xgboost import XGBClassifier\n",
    "from lightgbm import LGBMClassifier\n",
    "from sklearn.linear_model import LogisticRegression\n",
    "from sklearn.metrics import accuracy_score, precision_score, recall_score,f1_score, confusion_matrix,precision_recall_curve,auc\n",
    "from sklearn.model_selection import train_test_split\n",
    "# Configuración del entorno: Importa librerías para análisis, visualización y herramientas de machine learning, incluyendo diversos modelos y métricas de clasificación."
   ]
  },
  {
   "cell_type": "code",
   "execution_count": null,
   "id": "3cf553b0",
   "metadata": {},
   "outputs": [],
   "source": [
    "def get_metrics(y_test: pd.Series, y_predict: pd.Series, y_predict_proba: list) -> tuple:\n",
    "        \n",
    "        accuracy = round(accuracy_score(y_test, y_predict),4)\n",
    "        precision = round(precision_score(y_test, y_predict),4)\n",
    "        recall = round(recall_score(y_test, y_predict),4)\n",
    "        f1score = round(f1_score(y_test, y_predict),4)\n",
    "        precision_auc, recall_auc, thresholds = precision_recall_curve(y_test, y_predict_proba)\n",
    "        pr_auc = round(auc(recall_auc, precision_auc),4)\n",
    "\n",
    "        return accuracy,precision,recall,f1score,pr_auc\n",
    "# Función auxiliar que calcula y retorna las principales métricas de rendimiento para un problema de clasificación binaria.   "
   ]
  },
  {
   "cell_type": "code",
   "execution_count": null,
   "id": "44149310",
   "metadata": {},
   "outputs": [],
   "source": [
    "df = pd.read_csv('./datasets/dataset_diabetes.csv')\n",
    "df.columns = [i.lower() for i in df.columns]\n",
    "# Carga el dataset desde un archivo CSV y estandariza los nombres de las columnas a minúsculas para facilitar su manipulación."
   ]
  },
  {
   "cell_type": "code",
   "execution_count": null,
   "id": "783a2882",
   "metadata": {},
   "outputs": [],
   "source": [
    "df['class'] = df['class'].apply(lambda x: x.strip())\n",
    "df['gender'] = df['gender'].apply(lambda x: x.upper())\n",
    "# Normaliza columnas de texto: elimina espacios en 'class' y estandariza 'gender' a mayúsculas para asegurar la consistencia de los datos."
   ]
  },
  {
   "cell_type": "markdown",
   "id": "18161748",
   "metadata": {},
   "source": [
    "### Creamos la variable objetivo, (binaria) de String a Valor Entero"
   ]
  },
  {
   "cell_type": "code",
   "execution_count": null,
   "id": "0c09976c",
   "metadata": {},
   "outputs": [],
   "source": [
    "df['class'] = df['class'].apply(lambda x: x.replace('Y','1').replace('N','0').replace('P','0'))\n",
    "df['class'] = df['class'].astype(int)\n",
    "# Binarización de la variable objetivo: Se mapean las clases a 1 (diabético) y 0 (no diabético/prediabético) y se convierte la columna a tipo entero."
   ]
  },
  {
   "cell_type": "markdown",
   "id": "c3e22c70",
   "metadata": {},
   "source": [
    "#### Distribucion de clases"
   ]
  },
  {
   "cell_type": "code",
   "execution_count": null,
   "id": "2e5fe991",
   "metadata": {},
   "outputs": [
    {
     "data": {
      "image/png": "[encoded data removed]",
      "text/plain": [
       "<Figure size 800x600 with 1 Axes>"
      ]
     },
     "metadata": {},
     "output_type": "display_data"
    }
   ],
   "source": [
    "palette = {\n",
    "    'no diabetico': '#414141', \n",
    "    'diabetico': '#D5451B'   \n",
    "}\n",
    "df_ = df['class'].value_counts(normalize=True).to_frame().reset_index()\n",
    "df_['class'] = df_['class'].apply(lambda x: str(x).replace('1','diabetico').replace('0','no diabetico'))\n",
    "sns.set_theme(style=\"whitegrid\")\n",
    "# Configuración para la visualización: define una paleta de colores, calcula la proporción de cada clase y establece el estilo de los gráficos.\n",
    "\n",
    "# Crear el gráfico de barras\n",
    "plt.figure(figsize=(8, 6))\n",
    "sns.barplot(x='class', y='proportion', hue='class', data=df_, palette=palette)\n",
    "\n",
    "# Personalizar el gráfico\n",
    "plt.title('Distribución de Clases de Diabetes')\n",
    "plt.xlabel('Clase', fontsize = 10, color = '#414141',labelpad = 10)\n",
    "plt.ylabel('Proportion', fontsize = 10, color = '#414141',labelpad = 10)\n",
    "\n",
    "plt.yticks( fontsize = 10, color = '#414141');\n",
    "plt.xticks( fontsize = 10, color = '#414141');\n",
    "plt.axhline(y = 0, color = '#414141', linewidth = 5, alpha = 0.5)\n",
    "\n",
    "# Mostrar el gráfico\n",
    "plt.show()"
   ]
  },
  {
   "cell_type": "markdown",
   "id": "a397ab92",
   "metadata": {},
   "source": [
    "#### Volver la variable categorica `gender` a variable numerica, usando la tecnica: One Hot Encoding"
   ]
  },
  {
   "cell_type": "code",
   "execution_count": null,
   "id": "73c94903",
   "metadata": {},
   "outputs": [],
   "source": [
    "df = pd.get_dummies(df, columns=['gender'], prefix='gender')\n",
    "# Aplica codificación one-hot a la columna 'gender' para convertirla en variables numéricas que el modelo pueda procesar.\n"
   ]
  },
  {
   "cell_type": "markdown",
   "id": "e8bf723d",
   "metadata": {},
   "source": [
    "#### Split Entrenamiento y Validacion"
   ]
  },
  {
   "cell_type": "code",
   "execution_count": null,
   "id": "f2a248ce",
   "metadata": {},
   "outputs": [],
   "source": [
    "X = df.drop(columns = {'class'}, axis = 1)\n",
    "y = df['class']\n",
    "X_train, X_test,y_train,y_test = train_test_split(X,y,test_size = 0.3, random_state = 0, stratify=y)\n",
    "# Preparación final de datos: separa las características (X) de la variable objetivo (y) y divide los datos en conjuntos de entrenamiento y prueba de forma estratificada.\n"
   ]
  },
  {
   "cell_type": "markdown",
   "id": "8ac7905a",
   "metadata": {},
   "source": [
    "#### Modeling"
   ]
  },
  {
   "cell_type": "code",
   "execution_count": null,
   "id": "125be854",
   "metadata": {},
   "outputs": [],
   "source": [
    "catboost_model = CatBoostClassifier(random_state=42, verbose=0)\n",
    "xgb_model = XGBClassifier(random_state=42, verbosity=0)\n",
    "lgbm_model = LGBMClassifier(random_state=42, verbose=-1)\n",
    "logreg_model = LogisticRegression(random_state=42)\n",
    "# Inicialización de los modelos a comparar: se crean instancias de CatBoost, XGBoost, LightGBM y Regresión Logística con parámetros básicos para asegurar la reproducibilidad."
   ]
  },
  {
   "cell_type": "code",
   "execution_count": null,
   "id": "5ba05d15",
   "metadata": {},
   "outputs": [
    {
     "name": "stdout",
     "output_type": "stream",
     "text": [
      "| model_name         |   precision |   recall |   f1_score |   pr_auc |\n",
      "|:-------------------|------------:|---------:|-----------:|---------:|\n",
      "| CatBoostClassifier |      0.9922 |   1      |     0.9961 |   1      |\n",
      "| XGBClassifier      |      0.9922 |   1      |     0.9961 |   1      |\n",
      "| LGBMClassifier     |      0.9922 |   1      |     0.9961 |   1      |\n",
      "| LogisticRegression |      0.8651 |   0.9881 |     0.9225 |   0.9354 |\n"
     ]
    }
   ],
   "source": [
    "MODELS = [catboost_model, xgb_model, lgbm_model, logreg_model]\n",
    "\n",
    "model_results = []\n",
    "for model in MODELS:\n",
    "    model.fit(X_train, y_train);\n",
    "    y_pred_proba = model.predict_proba(X_test)[:,1]\n",
    "    y_predict = (y_pred_proba >= 0.5).astype(int) \n",
    "    accuracy,precision,recall,f1score, prauc = get_metrics(y_test = y_test, y_predict = y_predict, y_predict_proba = y_pred_proba)\n",
    "    model_name = model.__class__.__name__\n",
    "    metrics_dict = {\n",
    "                'model_name' : model_name,\n",
    "                'precision' : precision,\n",
    "                'recall' : recall,\n",
    "                'f1_score' : f1score,\n",
    "                'pr_auc' : prauc\n",
    "            }\n",
    "    model_results.append(metrics_dict)\n",
    "print(pd.DataFrame(model_results).to_markdown(index = False))\n",
    "# Pipeline de evaluación: Itera sobre cada modelo para entrenarlo, evaluar su rendimiento en el set de prueba y presentar los resultados comparativos en una tabla."
   ]
  },
  {
   "cell_type": "markdown",
   "id": "56a1bed9",
   "metadata": {},
   "source": [
    "#### Seleccionamos el modelo bajo el criterio del F1-Score"
   ]
  },
  {
   "cell_type": "code",
   "execution_count": null,
   "id": "6db09f95",
   "metadata": {},
   "outputs": [],
   "source": [
    "best_model = lgbm_model\n",
    "model.fit(X_train, y_train);\n",
    "y_pred_proba = model.predict_proba(X_test)[:,1]\n",
    "y_predict = (y_pred_proba >= 0.5).astype(int) \n",
    "# Selecciona el mejor modelo (LGBM) y genera un conjunto final de predicciones sobre los datos de prueba para un análisis más profundo."
   ]
  },
  {
   "cell_type": "code",
   "execution_count": null,
   "id": "5b9e03ea",
   "metadata": {},
   "outputs": [
    {
     "data": {
      "image/png": "[encoded data removed]",
      "text/plain": [
       "<Figure size 640x480 with 2 Axes>"
      ]
     },
     "metadata": {},
     "output_type": "display_data"
    }
   ],
   "source": [
    "\n",
    "cm = confusion_matrix(y_test, y_predict)\n",
    "\n",
    "# Mostrar la matriz con Seaborn (opcional, pero visualmente útil)\n",
    "sns.heatmap(cm, annot=True, fmt='d', cmap='Blues', \n",
    "            xticklabels=['Clase 0', 'Clase 1'], \n",
    "            yticklabels=['Clase 0', 'Clase 1'])\n",
    "plt.xlabel('Predicciones')\n",
    "plt.ylabel('Valores Reales')\n",
    "plt.title('Matriz de Confusión')\n",
    "plt.show()\n",
    "# Calcula y visualiza la matriz de confusión para evaluar el rendimiento detallado del modelo, mostrando aciertos y errores de clasificación."
   ]
  },
  {
   "cell_type": "markdown",
   "id": "115045f1",
   "metadata": {},
   "source": [
    "TP (True Positive): 8 (Clase 0 correctamente clasificada como Clase 0).\n",
    "\n",
    "FN (False Negative): 3 (Clase 0 incorrectamente clasificada como Clase 1).\n",
    "\n",
    "FP (False Positive): 39 (Clase 1 incorrectamente clasificada como Clase 0).\n",
    "\n",
    "TN (True Negative): 250 (Clase 1 correctamente clasificada como Clase 1)."
   ]
  },
  {
   "cell_type": "markdown",
   "id": "7e72ad96",
   "metadata": {},
   "source": [
    "#### Feature Importance"
   ]
  },
  {
   "cell_type": "code",
   "execution_count": null,
   "id": "74925835",
   "metadata": {},
   "outputs": [
    {
     "data": {
      "text/html": [
       "<div>\n",
       "<style scoped>\n",
       "    .dataframe tbody tr th:only-of-type {\n",
       "        vertical-align: middle;\n",
       "    }\n",
       "\n",
       "    .dataframe tbody tr th {\n",
       "        vertical-align: top;\n",
       "    }\n",
       "\n",
       "    .dataframe thead th {\n",
       "        text-align: right;\n",
       "    }\n",
       "</style>\n",
       "<table border=\"1\" class=\"dataframe\">\n",
       "  <thead>\n",
       "    <tr style=\"text-align: right;\">\n",
       "      <th></th>\n",
       "      <th>feature</th>\n",
       "      <th>importance</th>\n",
       "      <th>importance_pct</th>\n",
       "    </tr>\n",
       "  </thead>\n",
       "  <tbody>\n",
       "    <tr>\n",
       "      <th>0</th>\n",
       "      <td>hba1c</td>\n",
       "      <td>289</td>\n",
       "      <td>14.873906</td>\n",
       "    </tr>\n",
       "    <tr>\n",
       "      <th>1</th>\n",
       "      <td>no_pation</td>\n",
       "      <td>246</td>\n",
       "      <td>12.660834</td>\n",
       "    </tr>\n",
       "    <tr>\n",
       "      <th>2</th>\n",
       "      <td>chol</td>\n",
       "      <td>208</td>\n",
       "      <td>10.705095</td>\n",
       "    </tr>\n",
       "    <tr>\n",
       "      <th>3</th>\n",
       "      <td>id</td>\n",
       "      <td>201</td>\n",
       "      <td>10.344828</td>\n",
       "    </tr>\n",
       "    <tr>\n",
       "      <th>4</th>\n",
       "      <td>bmi</td>\n",
       "      <td>186</td>\n",
       "      <td>9.572826</td>\n",
       "    </tr>\n",
       "    <tr>\n",
       "      <th>5</th>\n",
       "      <td>age</td>\n",
       "      <td>160</td>\n",
       "      <td>8.234689</td>\n",
       "    </tr>\n",
       "    <tr>\n",
       "      <th>6</th>\n",
       "      <td>hdl</td>\n",
       "      <td>137</td>\n",
       "      <td>7.050952</td>\n",
       "    </tr>\n",
       "    <tr>\n",
       "      <th>7</th>\n",
       "      <td>ldl</td>\n",
       "      <td>124</td>\n",
       "      <td>6.381884</td>\n",
       "    </tr>\n",
       "    <tr>\n",
       "      <th>8</th>\n",
       "      <td>tg</td>\n",
       "      <td>117</td>\n",
       "      <td>6.021616</td>\n",
       "    </tr>\n",
       "    <tr>\n",
       "      <th>9</th>\n",
       "      <td>urea</td>\n",
       "      <td>100</td>\n",
       "      <td>5.146680</td>\n",
       "    </tr>\n",
       "    <tr>\n",
       "      <th>10</th>\n",
       "      <td>cr</td>\n",
       "      <td>87</td>\n",
       "      <td>4.477612</td>\n",
       "    </tr>\n",
       "    <tr>\n",
       "      <th>11</th>\n",
       "      <td>vldl</td>\n",
       "      <td>62</td>\n",
       "      <td>3.190942</td>\n",
       "    </tr>\n",
       "    <tr>\n",
       "      <th>12</th>\n",
       "      <td>gender_F</td>\n",
       "      <td>20</td>\n",
       "      <td>1.029336</td>\n",
       "    </tr>\n",
       "    <tr>\n",
       "      <th>13</th>\n",
       "      <td>gender_M</td>\n",
       "      <td>6</td>\n",
       "      <td>0.308801</td>\n",
       "    </tr>\n",
       "  </tbody>\n",
       "</table>\n",
       "</div>"
      ],
      "text/plain": [
       "      feature  importance  importance_pct\n",
       "0       hba1c         289       14.873906\n",
       "1   no_pation         246       12.660834\n",
       "2        chol         208       10.705095\n",
       "3          id         201       10.344828\n",
       "4         bmi         186        9.572826\n",
       "5         age         160        8.234689\n",
       "6         hdl         137        7.050952\n",
       "7         ldl         124        6.381884\n",
       "8          tg         117        6.021616\n",
       "9        urea         100        5.146680\n",
       "10         cr          87        4.477612\n",
       "11       vldl          62        3.190942\n",
       "12   gender_F          20        1.029336\n",
       "13   gender_M           6        0.308801"
      ]
     },
     "execution_count": 93,
     "metadata": {},
     "output_type": "execute_result"
    }
   ],
   "source": [
    "importance_df = pd.DataFrame({\n",
    "    'feature': best_model.feature_name_,\n",
    "    'importance': best_model.feature_importances_\n",
    "})\n",
    "\n",
    "importance_df['importance_pct'] = 100 * importance_df['importance'] / importance_df['importance'].sum()\n",
    "\n",
    "importance_df = importance_df.sort_values(by='importance_pct', ascending=False).reset_index(drop=True)\n",
    "importance_df\n",
    "# Extrae, calcula y ordena la importancia de cada característica del mejor modelo para identificar los predictores más influyentes."
   ]
  },
  {
   "cell_type": "code",
   "execution_count": null,
   "id": "3f8bd91d",
   "metadata": {},
   "outputs": [
    {
     "data": {
      "image/png": "[encoded data removed]",
      "text/plain": [
       "<Figure size 1000x600 with 1 Axes>"
      ]
     },
     "metadata": {},
     "output_type": "display_data"
    }
   ],
   "source": [
    "plt.figure(figsize=(10, 6))\n",
    "plt.barh(importance_df['feature'], importance_df['importance_pct'], color='skyblue')\n",
    "plt.xlabel('Feature Importance (%)')\n",
    "plt.title('LightGBM Feature Importance')\n",
    "plt.gca().invert_yaxis()\n",
    "plt.tight_layout()\n",
    "plt.show()\n",
    "# Crea un gráfico de barras horizontal para visualizar la importancia de cada característica, facilitando la interpretación de los resultados del modelo."
   ]
  },
  {
   "cell_type": "code",
   "execution_count": null,
   "id": "21b6e565",
   "metadata": {},
   "outputs": [],
   "source": []
  }
 ],
 "metadata": {
  "kernelspec": {
   "display_name": "env",
   "language": "python",
   "name": "python3"
  },
  "language_info": {
   "codemirror_mode": {
    "name": "ipython",
    "version": 3
   },
   "file_extension": ".py",
   "mimetype": "text/x-python",
   "name": "python",
   "nbconvert_exporter": "python",
   "pygments_lexer": "ipython3",
   "version": "3.11.0"
  }
 },
 "nbformat": 4,
 "nbformat_minor": 5
}
